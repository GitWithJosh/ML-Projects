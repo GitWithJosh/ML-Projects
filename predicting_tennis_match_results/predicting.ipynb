{
 "cells": [
  {
   "cell_type": "code",
   "execution_count": 11,
   "id": "2a948b82-b327-48a7-9535-925851b2ee8b",
   "metadata": {},
   "outputs": [],
   "source": [
    "# Importing the libraries\n",
    "import numpy as np\n",
    "import pandas as pd\n",
    "import os\n",
    "pd.set_option('display.max_rows', 500)\n",
    "pd.set_option('display.max_columns', 500)\n",
    "pd.set_option('display.width', 1000)"
   ]
  },
  {
   "cell_type": "code",
   "execution_count": 15,
   "id": "10e53979-e999-41fa-acb1-d0d9954b3403",
   "metadata": {},
   "outputs": [
    {
     "data": {
      "text/html": [
       "<div>\n",
       "<style scoped>\n",
       "    .dataframe tbody tr th:only-of-type {\n",
       "        vertical-align: middle;\n",
       "    }\n",
       "\n",
       "    .dataframe tbody tr th {\n",
       "        vertical-align: top;\n",
       "    }\n",
       "\n",
       "    .dataframe thead th {\n",
       "        text-align: right;\n",
       "    }\n",
       "</style>\n",
       "<table border=\"1\" class=\"dataframe\">\n",
       "  <thead>\n",
       "    <tr style=\"text-align: right;\">\n",
       "      <th></th>\n",
       "      <th>ATP;Location;Tournament;Date;Series;Court;Surface;Round;Best of;Player 1;Player 2;WRank;LRank;WPts;LPts;Set 1 Player 1;Set 1 Player 2;Set 2 Player 1;L2;Set 3 Player 1;Set 3 Player 2;Set 4 Player 1;Set 4 Player 2;Set 5 Player 1;Set 5 Player 12;P1sets;P2sets</th>\n",
       "    </tr>\n",
       "  </thead>\n",
       "  <tbody>\n",
       "    <tr>\n",
       "      <th>0</th>\n",
       "      <td>1;Brisbane;Brisbane International;31.12.23;ATP...</td>\n",
       "    </tr>\n",
       "    <tr>\n",
       "      <th>1</th>\n",
       "      <td>1;Brisbane;Brisbane International;31.12.23;ATP...</td>\n",
       "    </tr>\n",
       "    <tr>\n",
       "      <th>2</th>\n",
       "      <td>1;Brisbane;Brisbane International;01.01.24;ATP...</td>\n",
       "    </tr>\n",
       "    <tr>\n",
       "      <th>3</th>\n",
       "      <td>1;Brisbane;Brisbane International;01.01.24;ATP...</td>\n",
       "    </tr>\n",
       "    <tr>\n",
       "      <th>4</th>\n",
       "      <td>1;Brisbane;Brisbane International;01.01.24;ATP...</td>\n",
       "    </tr>\n",
       "  </tbody>\n",
       "</table>\n",
       "</div>"
      ],
      "text/plain": [
       "  ATP;Location;Tournament;Date;Series;Court;Surface;Round;Best of;Player 1;Player 2;WRank;LRank;WPts;LPts;Set 1 Player 1;Set 1 Player 2;Set 2 Player 1;L2;Set 3 Player 1;Set 3 Player 2;Set 4 Player 1;Set 4 Player 2;Set 5 Player 1;Set 5 Player 12;P1sets;P2sets\n",
       "0  1;Brisbane;Brisbane International;31.12.23;ATP...                                                                                                                                                                                                              \n",
       "1  1;Brisbane;Brisbane International;31.12.23;ATP...                                                                                                                                                                                                              \n",
       "2  1;Brisbane;Brisbane International;01.01.24;ATP...                                                                                                                                                                                                              \n",
       "3  1;Brisbane;Brisbane International;01.01.24;ATP...                                                                                                                                                                                                              \n",
       "4  1;Brisbane;Brisbane International;01.01.24;ATP...                                                                                                                                                                                                              "
      ]
     },
     "execution_count": 15,
     "metadata": {},
     "output_type": "execute_result"
    }
   ],
   "source": [
    "# Importing the dataset\n",
    "df = pd.read_csv('/Users/meyer/Coding/Predicting tennis matches using ML/tennis_match_results/2024 Kopie.csv')\n",
    "df.rename(columns=lambda x: x.strip(), inplace=True)\n",
    "df.dropna(how='all', axis=1, inplace=True)\n",
    "for column in df.columns:\n",
    "    df[column] = df[column].str.strip()\n",
    "df.head()"
   ]
  },
  {
   "cell_type": "code",
   "execution_count": 20,
   "id": "5ef6c3e4",
   "metadata": {},
   "outputs": [],
   "source": [
    "# Import data training model\n",
    "from sklearn.model_selection import train_test_split\n",
    "from sklearn.preprocessing import LabelEncoder\n",
    "from sklearn.ensemble import RandomForestClassifier\n",
    "\n",
    "# Data Preprocessing\n",
    "X = df.iloc[:, 1:-1].values\n",
    "y = df.iloc[:, -1].values\n",
    "labelencoder_y = LabelEncoder()\n",
    "y = labelencoder_y.fit_transform(y)"
   ]
  }
 ],
 "metadata": {
  "kernelspec": {
   "display_name": "Python 3 (ipykernel)",
   "language": "python",
   "name": "python3"
  },
  "language_info": {
   "codemirror_mode": {
    "name": "ipython",
    "version": 3
   },
   "file_extension": ".py",
   "mimetype": "text/x-python",
   "name": "python",
   "nbconvert_exporter": "python",
   "pygments_lexer": "ipython3",
   "version": "3.11.7"
  }
 },
 "nbformat": 4,
 "nbformat_minor": 5
}
